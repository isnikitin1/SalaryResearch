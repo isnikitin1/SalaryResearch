{
 "cells": [
  {
   "cell_type": "code",
   "execution_count": 1,
   "id": "109d42b0",
   "metadata": {},
   "outputs": [],
   "source": [
    "import pandas as pd\n",
    "import numpy as np\n",
    "import matplotlib.pyplot as plt\n",
    "import seaborn as sns\n",
    "from catboost import CatBoostRegressor\n",
    "from sklearn.linear_model import LinearRegression, Lasso, LassoCV\n",
    "from sklearn.model_selection import train_test_split, GridSearchCV, KFold\n",
    "from sklearn.preprocessing import StandardScaler\n",
    "from sklearn.metrics import r2_score, mean_absolute_error, mean_squared_error"
   ]
  },
  {
   "cell_type": "code",
   "execution_count": 2,
   "id": "8c2742ef",
   "metadata": {},
   "outputs": [],
   "source": [
    "url = 'https://raw.githubusercontent.com/isnikitin1/SalaryResearch/master/all_vacancies_clean.xlsx'\n",
    "df = pd.read_excel(url)"
   ]
  },
  {
   "cell_type": "markdown",
   "id": "e123d33e",
   "metadata": {},
   "source": [
    "### Этап 4: Построение модели. Оценка качества модели."
   ]
  },
  {
   "cell_type": "code",
   "execution_count": 3,
   "id": "10bc1cde",
   "metadata": {},
   "outputs": [],
   "source": [
    "data = df.iloc[:, 2:].copy()"
   ]
  },
  {
   "cell_type": "code",
   "execution_count": 4,
   "id": "657599a2",
   "metadata": {},
   "outputs": [],
   "source": [
    "data.drop('alternate_url', axis=1, inplace=True)\n",
    "data_cat = data.copy()"
   ]
  },
  {
   "cell_type": "code",
   "execution_count": 5,
   "id": "9200fcca",
   "metadata": {},
   "outputs": [],
   "source": [
    "data = pd.get_dummies(data, drop_first=True)"
   ]
  },
  {
   "cell_type": "code",
   "execution_count": 6,
   "id": "b670987a",
   "metadata": {},
   "outputs": [],
   "source": [
    "X = data.drop('salary', axis=1)\n",
    "y = data['salary']"
   ]
  },
  {
   "cell_type": "code",
   "execution_count": 7,
   "id": "7dfd1c02",
   "metadata": {},
   "outputs": [],
   "source": [
    "X_train, X_test, y_train, y_test = train_test_split(X, y, test_size=0.2)"
   ]
  },
  {
   "cell_type": "code",
   "execution_count": 8,
   "id": "8ee2f53b",
   "metadata": {},
   "outputs": [],
   "source": [
    "scaler = StandardScaler()\n",
    "scaler.fit(X_train)\n",
    "X_train_s = scaler.transform(X_train)\n",
    "X_test_s = scaler.transform(X_test)"
   ]
  },
  {
   "cell_type": "code",
   "execution_count": 9,
   "id": "d887b80e",
   "metadata": {},
   "outputs": [],
   "source": [
    "lin = LinearRegression()\n",
    "lin.fit(X_train_s, y_train)\n",
    "y_pred_train_lin = lin.predict(X_train_s)\n",
    "y_pred_test_lin = lin.predict(X_test_s)"
   ]
  },
  {
   "cell_type": "code",
   "execution_count": 10,
   "id": "d3547747",
   "metadata": {},
   "outputs": [
    {
     "name": "stdout",
     "output_type": "stream",
     "text": [
      "LinearRegression\n",
      "R2 train  1.0 R2 test 0.8354610294651986\n",
      "MAE train 0.000000000124253 MAE test 12999.409068479344569\n",
      "MSE train 0.000000000000000 MSE test 289732461.202279388904572\n"
     ]
    }
   ],
   "source": [
    "print('LinearRegression')\n",
    "print(f'R2 train  {r2_score(y_train, y_pred_train_lin)} R2 test {r2_score(y_test, y_pred_test_lin)}')\n",
    "print(f'MAE train {mean_absolute_error(y_train, y_pred_train_lin):.15f} MAE test {mean_absolute_error(y_test, y_pred_test_lin):.15f}')\n",
    "print(f'MSE train {mean_squared_error(y_train, y_pred_train_lin):.15f} MSE test {mean_squared_error(y_test, y_pred_test_lin):.15f}')"
   ]
  },
  {
   "cell_type": "markdown",
   "id": "b5753539",
   "metadata": {},
   "source": [
    "Качество модели оценим метриками:  \n",
    "R2-коэффициент детерминации. Показывает, насколько хорошо модель объясняет дисперсию целевой переменной.  \n",
    "MAE-средняя абсолютная ошибка. Измеряет среднюю величину абсолютных отклонений между предсказанными и фактическими значениями целевой переменной.  \n",
    "MSE-средняя квадратичная ошибка. Измеряет среднее значение квадратов разностей между предсказанными и фактическими значениями.  \n",
    "\n",
    "Модель LinearRegression сильно переобучена. Она идеально подходит к обучающим данным, но плохо обобщает новые данные. R2 на test наборе данных подтверждает, что модель плохо обобщает данные. Модель работает значительно хуже на новых данных, чем на тех, на которых она была обучена. MAE train близкое к нулю практически идеально предсказывает значения в обучающей выборке. Средняя абсолютная ошибка на test очень большая, что подтверждает переобучение. MSE train модель идеально предсказывает значения в обучающей выборке. Средняя квадратичная ошибка равна нулю. MSE test показывает, что в тестовом наборе данных есть значительные ошибки в предсказании.\n"
   ]
  },
  {
   "cell_type": "code",
   "execution_count": 11,
   "id": "8fc38fc5",
   "metadata": {},
   "outputs": [
    {
     "name": "stdout",
     "output_type": "stream",
     "text": [
      "Лучший alpha: 39.70335816600147\n"
     ]
    }
   ],
   "source": [
    "lasso = LassoCV(cv=5, random_state=42)  \n",
    "lasso.fit(X_train_s, y_train)\n",
    "best_alpha = lasso.alpha_\n",
    "print(f'Лучший alpha: {best_alpha}')\n",
    "\n",
    "y_pred_train_las = lasso.predict(X_train_s)\n",
    "y_pred_test_las = lasso.predict(X_test_s)"
   ]
  },
  {
   "cell_type": "code",
   "execution_count": 12,
   "id": "4acca820",
   "metadata": {},
   "outputs": [
    {
     "name": "stdout",
     "output_type": "stream",
     "text": [
      "LassoCV\n",
      "R2   train 1.00 R2 test 1.00\n",
      "MAE  train 32.22 MAE test 34.16\n",
      "MSE  train 1655.31 MSE test 1733.82\n"
     ]
    }
   ],
   "source": [
    "print('LassoCV')\n",
    "print(f'R2   train {r2_score(y_train, y_pred_train_las):.2f} R2 test {r2_score(y_test, y_pred_test_las):.2f}')\n",
    "print(f'MAE  train {mean_absolute_error(y_train, y_pred_train_las):.2f} MAE test {mean_absolute_error(y_test, y_pred_test_las):.2f}')\n",
    "print(f'MSE  train {mean_squared_error(y_train, y_pred_train_las):.2f} MSE test {mean_squared_error(y_test, y_pred_test_las):.2f}')"
   ]
  },
  {
   "cell_type": "code",
   "execution_count": 13,
   "id": "e2d65b9a",
   "metadata": {},
   "outputs": [
    {
     "name": "stdout",
     "output_type": "stream",
     "text": [
      " Количество нулевых коэффициентов: 2141\n"
     ]
    }
   ],
   "source": [
    "coef_la = lasso.coef_\n",
    "coef_zero = np.sum(np.isclose(coef_la, 0))\n",
    "print(f' Количество нулевых коэффициентов: {coef_zero}')"
   ]
  },
  {
   "cell_type": "markdown",
   "id": "3e2442ce",
   "metadata": {},
   "source": [
    "Для улучшения качества предсказания и уменьшения переобучения используем модель LassoCV. С подбором оптимального параметра alpha который штрафует признаки с большими коэффициентами. За счет этого LassoCV отбирает наиболее важные признаки и упрощает модель, что помогает бороться с переобучением. Подбор параметра alpha делаем с помощью кросс-валидации.  \n",
    "Модель занулила большинство признаков. Lasso выбрала только 2 наиболее важных признака для предсказания целевой переменной. Это означает, что эти два признака обладают наибольшей предсказательной силой. Несмотря на то, что модель показала отличный результат по всем используемым метрика, такое упрощение модели тоже не очень хорошо. Потому что модель использует минимальное количество признаков.\n"
   ]
  },
  {
   "cell_type": "code",
   "execution_count": 14,
   "id": "1eada7c5",
   "metadata": {},
   "outputs": [],
   "source": [
    "categorical_features = data_cat.select_dtypes(include=['object', 'bool']).columns.tolist()\n",
    "\n",
    "X_cat = data_cat.drop('salary', axis=1)\n",
    "y_cat = data_cat['salary']\n",
    "X_train_cat, X_test_cat, y_train_cat, y_test_cat = train_test_split(X_cat, y_cat, test_size=0.2, random_state=42)"
   ]
  },
  {
   "cell_type": "code",
   "execution_count": 15,
   "id": "8f29e98e",
   "metadata": {},
   "outputs": [
    {
     "name": "stdout",
     "output_type": "stream",
     "text": [
      "Лучшие параметры: {'bagging_temperature': 0.5, 'depth': 4, 'iterations': 1500, 'l2_leaf_reg': 1, 'learning_rate': 0.01, 'subsample': 0.8}\n"
     ]
    }
   ],
   "source": [
    "param_grid = {'iterations': [1500],\n",
    "              'learning_rate': [0.01, 0.1],\n",
    "              'depth': [4],\n",
    "              'l2_leaf_reg': [1, 3, 5],\n",
    "              'bagging_temperature': [0.5, 1],\n",
    "              'subsample': [0.6, 0.8]}\n",
    "\n",
    "model = CatBoostRegressor(verbose=0, random_state=42, cat_features=categorical_features)  \n",
    "kf = KFold(n_splits=5, shuffle=True, random_state=42)\n",
    "\n",
    "grid_search = GridSearchCV(model, param_grid, cv=kf, scoring='neg_mean_squared_error', n_jobs=-1)\n",
    "grid_search.fit(X_train_cat, y_train_cat, eval_set=[(X_test_cat, y_test_cat)], early_stopping_rounds=20) \n",
    "best_params = grid_search.best_params_\n",
    "print('Лучшие параметры:', best_params)"
   ]
  },
  {
   "cell_type": "code",
   "execution_count": 16,
   "id": "765f1dea",
   "metadata": {},
   "outputs": [],
   "source": [
    "final_model = CatBoostRegressor(**best_params, verbose=0, random_state=42, cat_features=categorical_features)\n",
    "final_model.fit(X_train_cat, y_train_cat, eval_set=(X_test_cat, y_test_cat))\n",
    "\n",
    "y_pred_train_grid = final_model.predict(X_train_cat)\n",
    "y_pred_test_grid = final_model.predict(X_test_cat)"
   ]
  },
  {
   "cell_type": "code",
   "execution_count": 17,
   "id": "8bb1c704",
   "metadata": {},
   "outputs": [
    {
     "name": "stdout",
     "output_type": "stream",
     "text": [
      "CatBoostRegressor с лучшими параметрами:\n",
      "R2  train 1.00 R2 test 0.99\n",
      "MAE train 417.93 MAE test 836.36\n",
      "MSE train 372045.82 MSE test 18396755.74\n"
     ]
    }
   ],
   "source": [
    "print('CatBoostRegressor с лучшими параметрами:')\n",
    "print(f'R2  train {r2_score(y_train_cat, y_pred_train_grid):.2f} R2 test {r2_score(y_test_cat, y_pred_test_grid):.2f}')\n",
    "print(f'MAE train {mean_absolute_error(y_train_cat, y_pred_train_grid):.2f} MAE test {mean_absolute_error(y_test_cat, y_pred_test_grid):.2f}')\n",
    "print(f'MSE train {mean_squared_error(y_train_cat, y_pred_train_grid):.2f} MSE test {mean_squared_error(y_test_cat, y_pred_test_grid):.2f}')"
   ]
  },
  {
   "cell_type": "markdown",
   "id": "1a0f939b",
   "metadata": {},
   "source": [
    "Для улучшения качества предсказания и снижения риска переобучения используем модель CatBoostRegressor. Преимуществом данной модели является отсутствие необходимости предварительного кодирования номинативных признаков и масштабирования данных, что упрощает процесс подготовки данных. С помощью поиска оптимальных параметров по сетке (GridSearchCV) подбираем гиперпараметры.  \n",
    "Модель CatBoostRegressor демонстрирует высокие показатели качества на тренировочном и тестовом наборах данных. Так как мы предсказываем заработную плату аналитика и среднее абсолютное отклонение предсказанных значений заработной платы от фактических эквивалентно стоимости пары чашек кофе. Я считаю, что модель CatBoostRegressor подходит для решения данной задачи.\n"
   ]
  }
 ],
 "metadata": {
  "kernelspec": {
   "display_name": "base",
   "language": "python",
   "name": "python3"
  },
  "language_info": {
   "codemirror_mode": {
    "name": "ipython",
    "version": 3
   },
   "file_extension": ".py",
   "mimetype": "text/x-python",
   "name": "python",
   "nbconvert_exporter": "python",
   "pygments_lexer": "ipython3",
   "version": "3.12.3"
  }
 },
 "nbformat": 4,
 "nbformat_minor": 5
}
