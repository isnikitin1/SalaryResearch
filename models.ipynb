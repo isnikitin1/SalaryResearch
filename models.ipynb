{
 "cells": [
  {
   "cell_type": "code",
   "execution_count": 97,
   "id": "d41f985c-7d7e-4321-b636-4cb73706caac",
   "metadata": {
    "tags": []
   },
   "outputs": [],
   "source": [
    "import pandas as pd\n",
    "import numpy as np\n",
    "from category_encoders import TargetEncoder\n",
    "from sklearn.model_selection import train_test_split, GridSearchCV\n",
    "from sklearn.compose import ColumnTransformer\n",
    "from sklearn.pipeline import Pipeline\n",
    "from sklearn.linear_model import Ridge\n",
    "from sklearn.preprocessing import StandardScaler, OneHotEncoder, PolynomialFeatures, FunctionTransformer, MultiLabelBinarizer\n",
    "from sklearn.impute import SimpleImputer\n",
    "from sklearn.linear_model import LassoCV\n",
    "from catboost import CatBoostRegressor"
   ]
  },
  {
   "cell_type": "code",
   "execution_count": 147,
   "id": "f8a3fbd0-4578-4b73-b28d-55a88a38bbd4",
   "metadata": {
    "tags": []
   },
   "outputs": [],
   "source": [
    "data = pd.read_excel('all_vacancies_clean.xlsx')\n",
    "data.drop(columns=['id', 'name', 'alternate_url'], inplace=True)"
   ]
  },
  {
   "cell_type": "code",
   "execution_count": 7,
   "id": "e57fb024-350a-4782-a3e5-68a4e5b9c06c",
   "metadata": {
    "tags": []
   },
   "outputs": [
    {
     "data": {
      "text/html": [
       "<div>\n",
       "<style scoped>\n",
       "    .dataframe tbody tr th:only-of-type {\n",
       "        vertical-align: middle;\n",
       "    }\n",
       "\n",
       "    .dataframe tbody tr th {\n",
       "        vertical-align: top;\n",
       "    }\n",
       "\n",
       "    .dataframe thead th {\n",
       "        text-align: right;\n",
       "    }\n",
       "</style>\n",
       "<table border=\"1\" class=\"dataframe\">\n",
       "  <thead>\n",
       "    <tr style=\"text-align: right;\">\n",
       "      <th></th>\n",
       "      <th>company</th>\n",
       "      <th>city</th>\n",
       "      <th>key_skills</th>\n",
       "      <th>salary_from</th>\n",
       "      <th>salary_to</th>\n",
       "      <th>experience</th>\n",
       "      <th>schedule</th>\n",
       "      <th>salary</th>\n",
       "      <th>area</th>\n",
       "      <th>Vacancy type</th>\n",
       "    </tr>\n",
       "  </thead>\n",
       "  <tbody>\n",
       "    <tr>\n",
       "      <th>0</th>\n",
       "      <td>ЛУКОЙЛ</td>\n",
       "      <td>Москва</td>\n",
       "      <td>Power BI, Apache Airflow, SQL</td>\n",
       "      <td>150000</td>\n",
       "      <td>150000</td>\n",
       "      <td>От 1 года до 3 лет</td>\n",
       "      <td>Полный день</td>\n",
       "      <td>150000</td>\n",
       "      <td>Мск_МО</td>\n",
       "      <td>BI-аналитик</td>\n",
       "    </tr>\n",
       "    <tr>\n",
       "      <th>1</th>\n",
       "      <td>Всм</td>\n",
       "      <td>Москва</td>\n",
       "      <td>Контроль и анализ ценообразования, Unit-эконом...</td>\n",
       "      <td>80000</td>\n",
       "      <td>120000</td>\n",
       "      <td>От 1 года до 3 лет</td>\n",
       "      <td>Удаленная работа</td>\n",
       "      <td>100000</td>\n",
       "      <td>Мск_МО</td>\n",
       "      <td>Финансовый аналитик</td>\n",
       "    </tr>\n",
       "    <tr>\n",
       "      <th>2</th>\n",
       "      <td>ИТРУМ</td>\n",
       "      <td>Ростов-на-Дону</td>\n",
       "      <td>Системный аналитик, UML, SQL, Функциональные т...</td>\n",
       "      <td>70000</td>\n",
       "      <td>80000</td>\n",
       "      <td>Нет опыта</td>\n",
       "      <td>Удаленная работа</td>\n",
       "      <td>75000</td>\n",
       "      <td>ЮФО</td>\n",
       "      <td>Системный аналитик</td>\n",
       "    </tr>\n",
       "    <tr>\n",
       "      <th>3</th>\n",
       "      <td>Uniel</td>\n",
       "      <td>Москва</td>\n",
       "      <td>Аналитическое мышление, Аналитика маркетплейсо...</td>\n",
       "      <td>80000</td>\n",
       "      <td>80000</td>\n",
       "      <td>От 1 года до 3 лет</td>\n",
       "      <td>Полный день</td>\n",
       "      <td>80000</td>\n",
       "      <td>Мск_МО</td>\n",
       "      <td>Аналитик маркетплейсов</td>\n",
       "    </tr>\n",
       "    <tr>\n",
       "      <th>4</th>\n",
       "      <td>ЮДжейПи</td>\n",
       "      <td>Екатеринбург</td>\n",
       "      <td>Телефонные переговоры, Коммуникабельность, Ана...</td>\n",
       "      <td>60000</td>\n",
       "      <td>60000</td>\n",
       "      <td>От 1 года до 3 лет</td>\n",
       "      <td>Удаленная работа</td>\n",
       "      <td>60000</td>\n",
       "      <td>УФО</td>\n",
       "      <td>Другое</td>\n",
       "    </tr>\n",
       "  </tbody>\n",
       "</table>\n",
       "</div>"
      ],
      "text/plain": [
       "   company            city                                         key_skills  \\\n",
       "0   ЛУКОЙЛ          Москва                      Power BI, Apache Airflow, SQL   \n",
       "1      Всм          Москва  Контроль и анализ ценообразования, Unit-эконом...   \n",
       "2    ИТРУМ  Ростов-на-Дону  Системный аналитик, UML, SQL, Функциональные т...   \n",
       "3    Uniel          Москва  Аналитическое мышление, Аналитика маркетплейсо...   \n",
       "4  ЮДжейПи    Екатеринбург  Телефонные переговоры, Коммуникабельность, Ана...   \n",
       "\n",
       "   salary_from  salary_to          experience          schedule  salary  \\\n",
       "0       150000     150000  От 1 года до 3 лет       Полный день  150000   \n",
       "1        80000     120000  От 1 года до 3 лет  Удаленная работа  100000   \n",
       "2        70000      80000           Нет опыта  Удаленная работа   75000   \n",
       "3        80000      80000  От 1 года до 3 лет       Полный день   80000   \n",
       "4        60000      60000  От 1 года до 3 лет  Удаленная работа   60000   \n",
       "\n",
       "     area            Vacancy type  \n",
       "0  Мск_МО             BI-аналитик  \n",
       "1  Мск_МО     Финансовый аналитик  \n",
       "2     ЮФО      Системный аналитик  \n",
       "3  Мск_МО  Аналитик маркетплейсов  \n",
       "4     УФО                  Другое  "
      ]
     },
     "execution_count": 7,
     "metadata": {},
     "output_type": "execute_result"
    }
   ],
   "source": [
    "data.head()"
   ]
  },
  {
   "cell_type": "code",
   "execution_count": 17,
   "id": "35fd09c6-b7bd-4bdf-abd0-d7ae78fde171",
   "metadata": {
    "tags": []
   },
   "outputs": [
    {
     "data": {
      "text/html": [
       "<div>\n",
       "<style scoped>\n",
       "    .dataframe tbody tr th:only-of-type {\n",
       "        vertical-align: middle;\n",
       "    }\n",
       "\n",
       "    .dataframe tbody tr th {\n",
       "        vertical-align: top;\n",
       "    }\n",
       "\n",
       "    .dataframe thead th {\n",
       "        text-align: right;\n",
       "    }\n",
       "</style>\n",
       "<table border=\"1\" class=\"dataframe\">\n",
       "  <thead>\n",
       "    <tr style=\"text-align: right;\">\n",
       "      <th></th>\n",
       "      <th>salary_from</th>\n",
       "      <th>salary_to</th>\n",
       "      <th>salary</th>\n",
       "      <th>Не указано</th>\n",
       "      <th>Аналитическое мышление</th>\n",
       "      <th>MS Excel</th>\n",
       "      <th>Работа с большим объемом информации</th>\n",
       "      <th>SQL</th>\n",
       "      <th>Бизнес-анализ</th>\n",
       "      <th>Анализ данных</th>\n",
       "      <th>...</th>\n",
       "      <th>area_ЮФО</th>\n",
       "      <th>Vacancy type_1С аналитик</th>\n",
       "      <th>Vacancy type_BI-аналитик</th>\n",
       "      <th>Vacancy type_Аналитик маркетплейсов</th>\n",
       "      <th>Vacancy type_Бизнес аналитик</th>\n",
       "      <th>Vacancy type_Другое</th>\n",
       "      <th>Vacancy type_Маркетинговый аналитик</th>\n",
       "      <th>Vacancy type_Продуктовый аналитик</th>\n",
       "      <th>Vacancy type_Системный аналитик</th>\n",
       "      <th>Vacancy type_Финансовый аналитик</th>\n",
       "    </tr>\n",
       "  </thead>\n",
       "  <tbody>\n",
       "    <tr>\n",
       "      <th>count</th>\n",
       "      <td>1085.000000</td>\n",
       "      <td>1085.000000</td>\n",
       "      <td>1085.000000</td>\n",
       "      <td>1085.000000</td>\n",
       "      <td>1085.000000</td>\n",
       "      <td>1085.000000</td>\n",
       "      <td>1085.000000</td>\n",
       "      <td>1085.000000</td>\n",
       "      <td>1085.000000</td>\n",
       "      <td>1085.000000</td>\n",
       "      <td>...</td>\n",
       "      <td>1085.000000</td>\n",
       "      <td>1085.000000</td>\n",
       "      <td>1085.000000</td>\n",
       "      <td>1085.000000</td>\n",
       "      <td>1085.000000</td>\n",
       "      <td>1085.000000</td>\n",
       "      <td>1085.000000</td>\n",
       "      <td>1085.000000</td>\n",
       "      <td>1085.000000</td>\n",
       "      <td>1085.000000</td>\n",
       "    </tr>\n",
       "    <tr>\n",
       "      <th>mean</th>\n",
       "      <td>93149.196313</td>\n",
       "      <td>104770.265438</td>\n",
       "      <td>98959.730876</td>\n",
       "      <td>0.334562</td>\n",
       "      <td>0.250691</td>\n",
       "      <td>0.200000</td>\n",
       "      <td>0.145622</td>\n",
       "      <td>0.129032</td>\n",
       "      <td>0.111521</td>\n",
       "      <td>0.103226</td>\n",
       "      <td>...</td>\n",
       "      <td>0.077419</td>\n",
       "      <td>0.132719</td>\n",
       "      <td>0.028571</td>\n",
       "      <td>0.087558</td>\n",
       "      <td>0.230415</td>\n",
       "      <td>0.095853</td>\n",
       "      <td>0.120737</td>\n",
       "      <td>0.100461</td>\n",
       "      <td>0.058986</td>\n",
       "      <td>0.144700</td>\n",
       "    </tr>\n",
       "    <tr>\n",
       "      <th>std</th>\n",
       "      <td>40968.886541</td>\n",
       "      <td>45041.527220</td>\n",
       "      <td>41364.270166</td>\n",
       "      <td>0.472055</td>\n",
       "      <td>0.433611</td>\n",
       "      <td>0.400184</td>\n",
       "      <td>0.352890</td>\n",
       "      <td>0.335390</td>\n",
       "      <td>0.314921</td>\n",
       "      <td>0.304394</td>\n",
       "      <td>...</td>\n",
       "      <td>0.267379</td>\n",
       "      <td>0.339427</td>\n",
       "      <td>0.166675</td>\n",
       "      <td>0.282781</td>\n",
       "      <td>0.421293</td>\n",
       "      <td>0.294525</td>\n",
       "      <td>0.325972</td>\n",
       "      <td>0.300752</td>\n",
       "      <td>0.235707</td>\n",
       "      <td>0.351961</td>\n",
       "    </tr>\n",
       "    <tr>\n",
       "      <th>min</th>\n",
       "      <td>100.000000</td>\n",
       "      <td>20000.000000</td>\n",
       "      <td>20000.000000</td>\n",
       "      <td>0.000000</td>\n",
       "      <td>0.000000</td>\n",
       "      <td>0.000000</td>\n",
       "      <td>0.000000</td>\n",
       "      <td>0.000000</td>\n",
       "      <td>0.000000</td>\n",
       "      <td>0.000000</td>\n",
       "      <td>...</td>\n",
       "      <td>0.000000</td>\n",
       "      <td>0.000000</td>\n",
       "      <td>0.000000</td>\n",
       "      <td>0.000000</td>\n",
       "      <td>0.000000</td>\n",
       "      <td>0.000000</td>\n",
       "      <td>0.000000</td>\n",
       "      <td>0.000000</td>\n",
       "      <td>0.000000</td>\n",
       "      <td>0.000000</td>\n",
       "    </tr>\n",
       "    <tr>\n",
       "      <th>25%</th>\n",
       "      <td>60000.000000</td>\n",
       "      <td>70000.000000</td>\n",
       "      <td>70000.000000</td>\n",
       "      <td>0.000000</td>\n",
       "      <td>0.000000</td>\n",
       "      <td>0.000000</td>\n",
       "      <td>0.000000</td>\n",
       "      <td>0.000000</td>\n",
       "      <td>0.000000</td>\n",
       "      <td>0.000000</td>\n",
       "      <td>...</td>\n",
       "      <td>0.000000</td>\n",
       "      <td>0.000000</td>\n",
       "      <td>0.000000</td>\n",
       "      <td>0.000000</td>\n",
       "      <td>0.000000</td>\n",
       "      <td>0.000000</td>\n",
       "      <td>0.000000</td>\n",
       "      <td>0.000000</td>\n",
       "      <td>0.000000</td>\n",
       "      <td>0.000000</td>\n",
       "    </tr>\n",
       "    <tr>\n",
       "      <th>50%</th>\n",
       "      <td>80000.000000</td>\n",
       "      <td>100000.000000</td>\n",
       "      <td>90000.000000</td>\n",
       "      <td>0.000000</td>\n",
       "      <td>0.000000</td>\n",
       "      <td>0.000000</td>\n",
       "      <td>0.000000</td>\n",
       "      <td>0.000000</td>\n",
       "      <td>0.000000</td>\n",
       "      <td>0.000000</td>\n",
       "      <td>...</td>\n",
       "      <td>0.000000</td>\n",
       "      <td>0.000000</td>\n",
       "      <td>0.000000</td>\n",
       "      <td>0.000000</td>\n",
       "      <td>0.000000</td>\n",
       "      <td>0.000000</td>\n",
       "      <td>0.000000</td>\n",
       "      <td>0.000000</td>\n",
       "      <td>0.000000</td>\n",
       "      <td>0.000000</td>\n",
       "    </tr>\n",
       "    <tr>\n",
       "      <th>75%</th>\n",
       "      <td>120000.000000</td>\n",
       "      <td>137000.000000</td>\n",
       "      <td>120000.000000</td>\n",
       "      <td>1.000000</td>\n",
       "      <td>1.000000</td>\n",
       "      <td>0.000000</td>\n",
       "      <td>0.000000</td>\n",
       "      <td>0.000000</td>\n",
       "      <td>0.000000</td>\n",
       "      <td>0.000000</td>\n",
       "      <td>...</td>\n",
       "      <td>0.000000</td>\n",
       "      <td>0.000000</td>\n",
       "      <td>0.000000</td>\n",
       "      <td>0.000000</td>\n",
       "      <td>0.000000</td>\n",
       "      <td>0.000000</td>\n",
       "      <td>0.000000</td>\n",
       "      <td>0.000000</td>\n",
       "      <td>0.000000</td>\n",
       "      <td>0.000000</td>\n",
       "    </tr>\n",
       "    <tr>\n",
       "      <th>max</th>\n",
       "      <td>220000.000000</td>\n",
       "      <td>350000.000000</td>\n",
       "      <td>220000.000000</td>\n",
       "      <td>1.000000</td>\n",
       "      <td>1.000000</td>\n",
       "      <td>1.000000</td>\n",
       "      <td>1.000000</td>\n",
       "      <td>1.000000</td>\n",
       "      <td>1.000000</td>\n",
       "      <td>1.000000</td>\n",
       "      <td>...</td>\n",
       "      <td>1.000000</td>\n",
       "      <td>1.000000</td>\n",
       "      <td>1.000000</td>\n",
       "      <td>1.000000</td>\n",
       "      <td>1.000000</td>\n",
       "      <td>1.000000</td>\n",
       "      <td>1.000000</td>\n",
       "      <td>1.000000</td>\n",
       "      <td>1.000000</td>\n",
       "      <td>1.000000</td>\n",
       "    </tr>\n",
       "  </tbody>\n",
       "</table>\n",
       "<p>8 rows × 90 columns</p>\n",
       "</div>"
      ],
      "text/plain": [
       "         salary_from      salary_to         salary   Не указано  \\\n",
       "count    1085.000000    1085.000000    1085.000000  1085.000000   \n",
       "mean    93149.196313  104770.265438   98959.730876     0.334562   \n",
       "std     40968.886541   45041.527220   41364.270166     0.472055   \n",
       "min       100.000000   20000.000000   20000.000000     0.000000   \n",
       "25%     60000.000000   70000.000000   70000.000000     0.000000   \n",
       "50%     80000.000000  100000.000000   90000.000000     0.000000   \n",
       "75%    120000.000000  137000.000000  120000.000000     1.000000   \n",
       "max    220000.000000  350000.000000  220000.000000     1.000000   \n",
       "\n",
       "       Аналитическое мышление     MS Excel  \\\n",
       "count             1085.000000  1085.000000   \n",
       "mean                 0.250691     0.200000   \n",
       "std                  0.433611     0.400184   \n",
       "min                  0.000000     0.000000   \n",
       "25%                  0.000000     0.000000   \n",
       "50%                  0.000000     0.000000   \n",
       "75%                  1.000000     0.000000   \n",
       "max                  1.000000     1.000000   \n",
       "\n",
       "       Работа с большим объемом информации          SQL  Бизнес-анализ  \\\n",
       "count                          1085.000000  1085.000000    1085.000000   \n",
       "mean                              0.145622     0.129032       0.111521   \n",
       "std                               0.352890     0.335390       0.314921   \n",
       "min                               0.000000     0.000000       0.000000   \n",
       "25%                               0.000000     0.000000       0.000000   \n",
       "50%                               0.000000     0.000000       0.000000   \n",
       "75%                               0.000000     0.000000       0.000000   \n",
       "max                               1.000000     1.000000       1.000000   \n",
       "\n",
       "       Анализ данных  ...     area_ЮФО  Vacancy type_1С аналитик  \\\n",
       "count    1085.000000  ...  1085.000000               1085.000000   \n",
       "mean        0.103226  ...     0.077419                  0.132719   \n",
       "std         0.304394  ...     0.267379                  0.339427   \n",
       "min         0.000000  ...     0.000000                  0.000000   \n",
       "25%         0.000000  ...     0.000000                  0.000000   \n",
       "50%         0.000000  ...     0.000000                  0.000000   \n",
       "75%         0.000000  ...     0.000000                  0.000000   \n",
       "max         1.000000  ...     1.000000                  1.000000   \n",
       "\n",
       "       Vacancy type_BI-аналитик  Vacancy type_Аналитик маркетплейсов  \\\n",
       "count               1085.000000                          1085.000000   \n",
       "mean                   0.028571                             0.087558   \n",
       "std                    0.166675                             0.282781   \n",
       "min                    0.000000                             0.000000   \n",
       "25%                    0.000000                             0.000000   \n",
       "50%                    0.000000                             0.000000   \n",
       "75%                    0.000000                             0.000000   \n",
       "max                    1.000000                             1.000000   \n",
       "\n",
       "       Vacancy type_Бизнес аналитик  Vacancy type_Другое  \\\n",
       "count                   1085.000000          1085.000000   \n",
       "mean                       0.230415             0.095853   \n",
       "std                        0.421293             0.294525   \n",
       "min                        0.000000             0.000000   \n",
       "25%                        0.000000             0.000000   \n",
       "50%                        0.000000             0.000000   \n",
       "75%                        0.000000             0.000000   \n",
       "max                        1.000000             1.000000   \n",
       "\n",
       "       Vacancy type_Маркетинговый аналитик  Vacancy type_Продуктовый аналитик  \\\n",
       "count                          1085.000000                        1085.000000   \n",
       "mean                              0.120737                           0.100461   \n",
       "std                               0.325972                           0.300752   \n",
       "min                               0.000000                           0.000000   \n",
       "25%                               0.000000                           0.000000   \n",
       "50%                               0.000000                           0.000000   \n",
       "75%                               0.000000                           0.000000   \n",
       "max                               1.000000                           1.000000   \n",
       "\n",
       "       Vacancy type_Системный аналитик  Vacancy type_Финансовый аналитик  \n",
       "count                      1085.000000                       1085.000000  \n",
       "mean                          0.058986                          0.144700  \n",
       "std                           0.235707                          0.351961  \n",
       "min                           0.000000                          0.000000  \n",
       "25%                           0.000000                          0.000000  \n",
       "50%                           0.000000                          0.000000  \n",
       "75%                           0.000000                          0.000000  \n",
       "max                           1.000000                          1.000000  \n",
       "\n",
       "[8 rows x 90 columns]"
      ]
     },
     "execution_count": 17,
     "metadata": {},
     "output_type": "execute_result"
    }
   ],
   "source": [
    "data.describe()"
   ]
  },
  {
   "cell_type": "markdown",
   "id": "52f4fa47-4822-4d97-b3d0-ab759d83dc30",
   "metadata": {
    "tags": []
   },
   "source": [
    "# Обучаем модели"
   ]
  },
  {
   "cell_type": "code",
   "execution_count": 10,
   "id": "032e1f55-a777-498c-b47c-9070ff62bd5a",
   "metadata": {
    "tags": []
   },
   "outputs": [],
   "source": [
    "# делю навыки на списки\n",
    "skills = data['key_skills'].str.split(',').apply(lambda x: [s.strip() for s in x] if isinstance(x, list) else [])\n",
    "\n",
    "# оставляю только топ 20 самых частых навыков\n",
    "mlb = MultiLabelBinarizer()\n",
    "skills_encoded = pd.DataFrame(mlb.fit_transform(skills), columns=mlb.classes_, index=data.index)\n",
    "top_skills = skills_encoded.sum().sort_values(ascending=False).head(20).index\n",
    "skills_encoded = skills_encoded[top_skills]\n",
    "data = pd.concat([data, skills_encoded], axis=1)\n",
    "data.drop(columns=['key_skills'], inplace=True)"
   ]
  },
  {
   "cell_type": "code",
   "execution_count": 13,
   "id": "a99e952b-5e6c-4f8c-99aa-0759c3625f1f",
   "metadata": {
    "tags": []
   },
   "outputs": [],
   "source": [
    "# список категориальных\n",
    "cat_features = ['company', 'city', 'experience', 'schedule', 'area', 'Vacancy type']\n",
    "\n",
    "# encoding\n",
    "encoder = OneHotEncoder(sparse_output=False, handle_unknown='ignore', max_categories=20)\n",
    "encoded_features = encoder.fit_transform(data[cat_features])\n",
    "encoded_df = pd.DataFrame(encoded_features, columns=encoder.get_feature_names_out(cat_features))\n",
    "data = pd.concat([data.drop(columns=cat_features), encoded_df], axis=1)"
   ]
  },
  {
   "cell_type": "code",
   "execution_count": 18,
   "id": "e09768e9-1526-44f3-b85d-8c5c71ed041f",
   "metadata": {
    "tags": []
   },
   "outputs": [],
   "source": [
    "data.drop(columns=['salary_from', 'salary_to'], inplace=True)"
   ]
  },
  {
   "cell_type": "code",
   "execution_count": 20,
   "id": "7505ca15-dbda-4883-89fa-bec8909ee721",
   "metadata": {
    "tags": []
   },
   "outputs": [],
   "source": [
    "X = data.drop(columns=['salary'])\n",
    "y = data['salary']\n",
    "\n",
    "X_train, X_test, y_train, y_test = train_test_split(X, y, test_size=0.2, random_state=42)"
   ]
  },
  {
   "cell_type": "code",
   "execution_count": 116,
   "id": "fcd1f0ac-ae5a-4162-b045-48c1374b4062",
   "metadata": {
    "tags": []
   },
   "outputs": [],
   "source": [
    "# функция, чтоб был симпатичный вывод метрик\n",
    "from sklearn.metrics import r2_score, mean_absolute_error, mean_squared_error\n",
    "\n",
    "def print_metrics(y_true_train, y_pred_train, y_true_test, y_pred_test, model_name):\n",
    "    print(f\"{model_name}:\")\n",
    "    print(f\"{'Metric':<10}{'Train':<15}{'Test':<15}\")\n",
    "    print(\"-\" * 35)\n",
    "    \n",
    "    # R²\n",
    "    train_r2 = r2_score(y_true_train, y_pred_train)\n",
    "    test_r2 = r2_score(y_true_test, y_pred_test)\n",
    "    print(f\"{'R²':<10}{train_r2:.3f}{'':<8}{test_r2:.3f}\")\n",
    "    \n",
    "    # MAE\n",
    "    train_mae = mean_absolute_error(y_true_train, y_pred_train)\n",
    "    test_mae = mean_absolute_error(y_true_test, y_pred_test)\n",
    "    print(f\"{'MAE':<10}{train_mae:.2f}{'':<8}{test_mae:.2f}\")\n",
    "    \n",
    "    # MSE\n",
    "    train_mse = mean_squared_error(y_true_train, y_pred_train)\n",
    "    test_mse = mean_squared_error(y_true_test, y_pred_test)\n",
    "    print(f\"{'MSE':<10}{train_mse:.2f}{'':<8}{test_mse:.2f}\")"
   ]
  },
  {
   "cell_type": "markdown",
   "id": "b1da455d-0498-47b7-9661-1ff86d836c99",
   "metadata": {},
   "source": [
    "Линейная регрессия"
   ]
  },
  {
   "cell_type": "code",
   "execution_count": 38,
   "id": "ce83fe47-a825-419f-a1d0-340087a52f23",
   "metadata": {
    "tags": []
   },
   "outputs": [
    {
     "name": "stdout",
     "output_type": "stream",
     "text": [
      "Linear Regression:\n",
      "Metric    Train          Test           \n",
      "-----------------------------------\n",
      "R²        0.510        0.381\n",
      "MAE       22093        24927\n",
      "MSE       836233210        1063332434\n"
     ]
    }
   ],
   "source": [
    "from sklearn.linear_model import LinearRegression\n",
    "from sklearn.metrics import r2_score, mean_absolute_error, mean_squared_error\n",
    "\n",
    "model_lr = LinearRegression()\n",
    "model_lr.fit(X_train, y_train)\n",
    "y_train_pred_lr = model_lr.predict(X_train)\n",
    "y_test_pred_lr = model_lr.predict(X_test)\n",
    "print_metrics(y_train, y_train_pred_lr, y_test, y_test_pred_lr, \"Linear Regression\")"
   ]
  },
  {
   "cell_type": "markdown",
   "id": "403dc5f1-6a48-4ae3-a2c2-61f04a663bb5",
   "metadata": {
    "tags": []
   },
   "source": [
    "Может, взаимосвязи слишком сложные и простая линейная регрессия тут не сработает.\n",
    "Средняя ошибка предсказания +- 25 тыс."
   ]
  },
  {
   "cell_type": "markdown",
   "id": "a7aa24be-07e7-42ea-aea5-f5c5a4dfa65f",
   "metadata": {},
   "source": [
    "Случайный лес"
   ]
  },
  {
   "cell_type": "code",
   "execution_count": 39,
   "id": "a7c26317-c334-486d-ba7f-b460ae7fde8b",
   "metadata": {
    "tags": []
   },
   "outputs": [
    {
     "name": "stdout",
     "output_type": "stream",
     "text": [
      "Random Forest:\n",
      "Metric    Train          Test           \n",
      "-----------------------------------\n",
      "R²        0.844        0.322\n",
      "MAE       11406        24957\n",
      "MSE       266422844        1165749976\n"
     ]
    }
   ],
   "source": [
    "from sklearn.ensemble import RandomForestRegressor\n",
    "\n",
    "model_rf = RandomForestRegressor(n_estimators=100, random_state=42)\n",
    "model_rf.fit(X_train, y_train)\n",
    "y_train_pred_rf = model_rf.predict(X_train)\n",
    "y_test_pred_rf = model_rf.predict(X_test)\n",
    "print_metrics(y_train, y_train_pred_rf, y_test, y_test_pred_rf, \"Random Forest\")"
   ]
  },
  {
   "cell_type": "markdown",
   "id": "3ddc4105-d7ef-4fdd-8f6f-eeb857557eba",
   "metadata": {},
   "source": [
    "Худшая обобщающая способность среди всех моделей + тут явное переобучение (разрыв между train/test > 0.5).\n",
    "Может, тут слишком глубокие деревья или избыток признаков, можно попробовать уменьшить max_depth, увеличить min_samples_leaf или отобрать только ключевые признки."
   ]
  },
  {
   "cell_type": "markdown",
   "id": "662fd5cc-0913-42b2-b5f9-f372caeeae45",
   "metadata": {
    "tags": []
   },
   "source": [
    "Градиентный бустинг (XGBoost)"
   ]
  },
  {
   "cell_type": "code",
   "execution_count": 40,
   "id": "ec8268da-d182-4045-9ebb-93d3e60059aa",
   "metadata": {
    "tags": []
   },
   "outputs": [
    {
     "name": "stdout",
     "output_type": "stream",
     "text": [
      "XGBoost:\n",
      "Metric    Train          Test           \n",
      "-----------------------------------\n",
      "R²        0.843        0.345\n",
      "MAE       10390        24190\n",
      "MSE       267834800        1124840320\n"
     ]
    }
   ],
   "source": [
    "from xgboost import XGBRegressor\n",
    "\n",
    "model_xgb = XGBRegressor(n_estimators=100, random_state=42)\n",
    "model_xgb.fit(X_train, y_train)\n",
    "y_train_pred_xgb = model_xgb.predict(X_train)\n",
    "y_test_pred_xgb = model_xgb.predict(X_test)\n",
    "print_metrics(y_train, y_train_pred_xgb, y_test, y_test_pred_xgb, \"XGBoost\")"
   ]
  },
  {
   "cell_type": "markdown",
   "id": "252aed94-1f22-407f-b6a3-0ab3b6c30805",
   "metadata": {},
   "source": [
    "Относительно других двух моделей тут лучший результат по R² на тесте, но на самом деле все еще довольно низкий. Ошибка тоже меньше, чем у других моделей.\n",
    "Переобучение умеренность, тк разрыв R² train/test ≈ 0.5. Это тоже лучше, чем у двух других моделей. Тоже можно попробовать поменять параметры."
   ]
  },
  {
   "cell_type": "markdown",
   "id": "8fb8fa84-6ddb-4218-b708-bffcc99abadd",
   "metadata": {
    "tags": []
   },
   "source": [
    "# Пытаемся получить результаты лучше"
   ]
  },
  {
   "cell_type": "code",
   "execution_count": 129,
   "id": "0e536f94-3ca6-4411-9173-5d0e52d37214",
   "metadata": {
    "tags": []
   },
   "outputs": [],
   "source": [
    "data = pd.read_excel('all_vacancies_clean.xlsx')\n",
    "data.drop(columns=['id', 'name', 'alternate_url'], inplace=True)\n",
    "\n",
    "# логарифмируем целевую переменную\n",
    "data['salary_log'] = np.log1p(data['salary'])\n",
    "\n",
    "data.drop(columns=['salary_from', 'salary_to'], inplace=True)"
   ]
  },
  {
   "cell_type": "code",
   "execution_count": 130,
   "id": "f28ea334-7249-4b7d-b02d-50b6c1b302f6",
   "metadata": {
    "tags": []
   },
   "outputs": [],
   "source": [
    "top_skills = data['key_skills'].str.split(',').explode().str.strip().value_counts().head(20).index\n",
    "for skill in top_skills:\n",
    "    data[f'skill_{skill}'] = data['key_skills'].str.contains(skill).astype(int)\n",
    "data.drop(columns=['key_skills'], inplace=True)"
   ]
  },
  {
   "cell_type": "code",
   "execution_count": 131,
   "id": "9142620f-0915-4bf7-8dc5-0d8115ce9d9a",
   "metadata": {
    "tags": []
   },
   "outputs": [
    {
     "data": {
      "text/html": [
       "<div>\n",
       "<style scoped>\n",
       "    .dataframe tbody tr th:only-of-type {\n",
       "        vertical-align: middle;\n",
       "    }\n",
       "\n",
       "    .dataframe tbody tr th {\n",
       "        vertical-align: top;\n",
       "    }\n",
       "\n",
       "    .dataframe thead th {\n",
       "        text-align: right;\n",
       "    }\n",
       "</style>\n",
       "<table border=\"1\" class=\"dataframe\">\n",
       "  <thead>\n",
       "    <tr style=\"text-align: right;\">\n",
       "      <th></th>\n",
       "      <th>company</th>\n",
       "      <th>city</th>\n",
       "      <th>experience</th>\n",
       "      <th>schedule</th>\n",
       "      <th>salary</th>\n",
       "      <th>area</th>\n",
       "      <th>Vacancy type</th>\n",
       "      <th>salary_log</th>\n",
       "      <th>skill_Не указано</th>\n",
       "      <th>skill_Аналитическое мышление</th>\n",
       "      <th>...</th>\n",
       "      <th>skill_Формирование аналитической отчетности</th>\n",
       "      <th>skill_MS PowerPoint</th>\n",
       "      <th>skill_BPMN</th>\n",
       "      <th>skill_Аналитика</th>\n",
       "      <th>skill_Анализ бизнес-процессов</th>\n",
       "      <th>skill_Системный анализ</th>\n",
       "      <th>skill_Аналитические исследования</th>\n",
       "      <th>skill_Работа с базами данных</th>\n",
       "      <th>skill_Аналитический склад ума</th>\n",
       "      <th>skill_Работа в команде</th>\n",
       "    </tr>\n",
       "  </thead>\n",
       "  <tbody>\n",
       "    <tr>\n",
       "      <th>0</th>\n",
       "      <td>ЛУКОЙЛ</td>\n",
       "      <td>Москва</td>\n",
       "      <td>От 1 года до 3 лет</td>\n",
       "      <td>Полный день</td>\n",
       "      <td>150000</td>\n",
       "      <td>Мск_МО</td>\n",
       "      <td>BI-аналитик</td>\n",
       "      <td>11.918397</td>\n",
       "      <td>0</td>\n",
       "      <td>0</td>\n",
       "      <td>...</td>\n",
       "      <td>0</td>\n",
       "      <td>0</td>\n",
       "      <td>0</td>\n",
       "      <td>0</td>\n",
       "      <td>0</td>\n",
       "      <td>0</td>\n",
       "      <td>0</td>\n",
       "      <td>0</td>\n",
       "      <td>0</td>\n",
       "      <td>0</td>\n",
       "    </tr>\n",
       "    <tr>\n",
       "      <th>1</th>\n",
       "      <td>Всм</td>\n",
       "      <td>Москва</td>\n",
       "      <td>От 1 года до 3 лет</td>\n",
       "      <td>Удаленная работа</td>\n",
       "      <td>100000</td>\n",
       "      <td>Мск_МО</td>\n",
       "      <td>Финансовый аналитик</td>\n",
       "      <td>11.512935</td>\n",
       "      <td>0</td>\n",
       "      <td>0</td>\n",
       "      <td>...</td>\n",
       "      <td>0</td>\n",
       "      <td>0</td>\n",
       "      <td>0</td>\n",
       "      <td>1</td>\n",
       "      <td>0</td>\n",
       "      <td>0</td>\n",
       "      <td>0</td>\n",
       "      <td>0</td>\n",
       "      <td>0</td>\n",
       "      <td>0</td>\n",
       "    </tr>\n",
       "    <tr>\n",
       "      <th>2</th>\n",
       "      <td>ИТРУМ</td>\n",
       "      <td>Ростов-на-Дону</td>\n",
       "      <td>Нет опыта</td>\n",
       "      <td>Удаленная работа</td>\n",
       "      <td>75000</td>\n",
       "      <td>ЮФО</td>\n",
       "      <td>Системный аналитик</td>\n",
       "      <td>11.225257</td>\n",
       "      <td>0</td>\n",
       "      <td>0</td>\n",
       "      <td>...</td>\n",
       "      <td>0</td>\n",
       "      <td>0</td>\n",
       "      <td>0</td>\n",
       "      <td>0</td>\n",
       "      <td>0</td>\n",
       "      <td>0</td>\n",
       "      <td>0</td>\n",
       "      <td>0</td>\n",
       "      <td>0</td>\n",
       "      <td>0</td>\n",
       "    </tr>\n",
       "    <tr>\n",
       "      <th>3</th>\n",
       "      <td>Uniel</td>\n",
       "      <td>Москва</td>\n",
       "      <td>От 1 года до 3 лет</td>\n",
       "      <td>Полный день</td>\n",
       "      <td>80000</td>\n",
       "      <td>Мск_МО</td>\n",
       "      <td>Аналитик маркетплейсов</td>\n",
       "      <td>11.289794</td>\n",
       "      <td>0</td>\n",
       "      <td>1</td>\n",
       "      <td>...</td>\n",
       "      <td>0</td>\n",
       "      <td>0</td>\n",
       "      <td>0</td>\n",
       "      <td>1</td>\n",
       "      <td>0</td>\n",
       "      <td>0</td>\n",
       "      <td>0</td>\n",
       "      <td>0</td>\n",
       "      <td>0</td>\n",
       "      <td>0</td>\n",
       "    </tr>\n",
       "    <tr>\n",
       "      <th>4</th>\n",
       "      <td>ЮДжейПи</td>\n",
       "      <td>Екатеринбург</td>\n",
       "      <td>От 1 года до 3 лет</td>\n",
       "      <td>Удаленная работа</td>\n",
       "      <td>60000</td>\n",
       "      <td>УФО</td>\n",
       "      <td>Другое</td>\n",
       "      <td>11.002117</td>\n",
       "      <td>0</td>\n",
       "      <td>1</td>\n",
       "      <td>...</td>\n",
       "      <td>0</td>\n",
       "      <td>0</td>\n",
       "      <td>0</td>\n",
       "      <td>0</td>\n",
       "      <td>0</td>\n",
       "      <td>0</td>\n",
       "      <td>0</td>\n",
       "      <td>0</td>\n",
       "      <td>0</td>\n",
       "      <td>0</td>\n",
       "    </tr>\n",
       "  </tbody>\n",
       "</table>\n",
       "<p>5 rows × 28 columns</p>\n",
       "</div>"
      ],
      "text/plain": [
       "   company            city          experience          schedule  salary  \\\n",
       "0   ЛУКОЙЛ          Москва  От 1 года до 3 лет       Полный день  150000   \n",
       "1      Всм          Москва  От 1 года до 3 лет  Удаленная работа  100000   \n",
       "2    ИТРУМ  Ростов-на-Дону           Нет опыта  Удаленная работа   75000   \n",
       "3    Uniel          Москва  От 1 года до 3 лет       Полный день   80000   \n",
       "4  ЮДжейПи    Екатеринбург  От 1 года до 3 лет  Удаленная работа   60000   \n",
       "\n",
       "     area            Vacancy type  salary_log  skill_Не указано  \\\n",
       "0  Мск_МО             BI-аналитик   11.918397                 0   \n",
       "1  Мск_МО     Финансовый аналитик   11.512935                 0   \n",
       "2     ЮФО      Системный аналитик   11.225257                 0   \n",
       "3  Мск_МО  Аналитик маркетплейсов   11.289794                 0   \n",
       "4     УФО                  Другое   11.002117                 0   \n",
       "\n",
       "   skill_Аналитическое мышление  ...  \\\n",
       "0                             0  ...   \n",
       "1                             0  ...   \n",
       "2                             0  ...   \n",
       "3                             1  ...   \n",
       "4                             1  ...   \n",
       "\n",
       "   skill_Формирование аналитической отчетности  skill_MS PowerPoint  \\\n",
       "0                                            0                    0   \n",
       "1                                            0                    0   \n",
       "2                                            0                    0   \n",
       "3                                            0                    0   \n",
       "4                                            0                    0   \n",
       "\n",
       "   skill_BPMN  skill_Аналитика  skill_Анализ бизнес-процессов  \\\n",
       "0           0                0                              0   \n",
       "1           0                1                              0   \n",
       "2           0                0                              0   \n",
       "3           0                1                              0   \n",
       "4           0                0                              0   \n",
       "\n",
       "   skill_Системный анализ  skill_Аналитические исследования  \\\n",
       "0                       0                                 0   \n",
       "1                       0                                 0   \n",
       "2                       0                                 0   \n",
       "3                       0                                 0   \n",
       "4                       0                                 0   \n",
       "\n",
       "   skill_Работа с базами данных  skill_Аналитический склад ума  \\\n",
       "0                             0                              0   \n",
       "1                             0                              0   \n",
       "2                             0                              0   \n",
       "3                             0                              0   \n",
       "4                             0                              0   \n",
       "\n",
       "   skill_Работа в команде  \n",
       "0                       0  \n",
       "1                       0  \n",
       "2                       0  \n",
       "3                       0  \n",
       "4                       0  \n",
       "\n",
       "[5 rows x 28 columns]"
      ]
     },
     "execution_count": 131,
     "metadata": {},
     "output_type": "execute_result"
    }
   ],
   "source": [
    "data.head()"
   ]
  },
  {
   "cell_type": "code",
   "execution_count": 132,
   "id": "22933d0f-2e87-4063-9d8f-c72ae6f8d84a",
   "metadata": {
    "tags": []
   },
   "outputs": [],
   "source": [
    "X = data.drop(columns=['salary', 'salary_log'])\n",
    "y = data['salary_log']\n",
    "X_train, X_test, y_train, y_test = train_test_split(X, y, test_size=0.2, random_state=42)"
   ]
  },
  {
   "cell_type": "code",
   "execution_count": 133,
   "id": "6ecfffb1-c0e4-461d-9b5a-ade78013903d",
   "metadata": {
    "tags": []
   },
   "outputs": [],
   "source": [
    "cat_features = ['company', 'city', 'experience', 'schedule', 'area', 'Vacancy type']"
   ]
  },
  {
   "cell_type": "markdown",
   "id": "c353a058-3c8d-413f-b101-bdacbe42618d",
   "metadata": {},
   "source": [
    "LassoCV"
   ]
  },
  {
   "cell_type": "code",
   "execution_count": 134,
   "id": "334e2854-a564-4968-84a0-bc7e706cfa3d",
   "metadata": {
    "tags": []
   },
   "outputs": [
    {
     "name": "stdout",
     "output_type": "stream",
     "text": [
      "LassoCV:\n",
      "Metric    Train          Test           \n",
      "-----------------------------------\n",
      "R²        0.453        0.414\n",
      "MAE       0.24        0.26\n",
      "MSE       0.10        0.11\n"
     ]
    }
   ],
   "source": [
    "preprocessor_lasso = ColumnTransformer([\n",
    "    ('cat', OneHotEncoder(handle_unknown='ignore', max_categories=10), cat_features)\n",
    "])\n",
    "\n",
    "lasso_pipe = Pipeline([\n",
    "    ('prep', preprocessor_lasso),\n",
    "    ('model', LassoCV(alphas=np.logspace(-3, 3, 100), cv=5, max_iter=10000))\n",
    "])\n",
    "\n",
    "lasso_pipe.fit(X_train, y_train)\n",
    "y_train_pred_lp = lasso_pipe.predict(X_train)\n",
    "y_test_pred_lp = lasso_pipe.predict(X_test)\n",
    "print_metrics(y_train, y_train_pred_lp, y_test, y_test_pred_lp, \"LassoCV\")"
   ]
  },
  {
   "cell_type": "markdown",
   "id": "e4d268f1-c06d-48f9-9cac-15536fb20a13",
   "metadata": {},
   "source": [
    "LassoCV показывает на тестовых данных результат лучше, чем Linear Regression, то есть регуляризация помогает нам избежать переобучения."
   ]
  },
  {
   "cell_type": "markdown",
   "id": "e5318777-4434-45ae-b754-86230dd750c5",
   "metadata": {},
   "source": [
    "CatBoost"
   ]
  },
  {
   "cell_type": "code",
   "execution_count": 135,
   "id": "6da41e47-9dad-4200-be24-2599092dd60e",
   "metadata": {
    "tags": []
   },
   "outputs": [
    {
     "name": "stdout",
     "output_type": "stream",
     "text": [
      "LassoCV:\n",
      "Metric    Train          Test           \n",
      "-----------------------------------\n",
      "R²        0.684        0.494\n",
      "MAE       0.18        0.24\n",
      "MSE       0.06        0.09\n"
     ]
    }
   ],
   "source": [
    "catboost_model = CatBoostRegressor(\n",
    "    cat_features=cat_features,\n",
    "    verbose=0,\n",
    "    random_state=42,\n",
    "    n_estimators=1000\n",
    ")\n",
    "\n",
    "catboost_model.fit(X_train, y_train)\n",
    "y_train_pred_cat = catboost_model.predict(X_train)\n",
    "y_test_pred_cat = catboost_model.predict(X_test)\n",
    "print_metrics(y_train, y_train_pred_cat, y_test, y_test_pred_cat, \"LassoCV\")"
   ]
  },
  {
   "cell_type": "markdown",
   "id": "eb9320ed-1fdf-40d9-967f-59e28f26cdd6",
   "metadata": {},
   "source": [
    "Попробуем еще прошлые модели, но на логарифмированной целевой переменной"
   ]
  },
  {
   "cell_type": "code",
   "execution_count": 136,
   "id": "3e01d0fb-6f24-41c3-897c-a99a0ff7b038",
   "metadata": {
    "tags": []
   },
   "outputs": [],
   "source": [
    "encoder = OneHotEncoder(sparse_output=False, handle_unknown='ignore', max_categories=20)\n",
    "encoded_features = encoder.fit_transform(data[cat_features])\n",
    "encoded_df = pd.DataFrame(encoded_features, columns=encoder.get_feature_names_out(cat_features))\n",
    "data = pd.concat([data.drop(columns=cat_features), encoded_df], axis=1)"
   ]
  },
  {
   "cell_type": "code",
   "execution_count": 145,
   "id": "97e9c57c-3d75-4d86-8618-84772d12eeba",
   "metadata": {
    "tags": []
   },
   "outputs": [],
   "source": [
    "X = data.drop(columns=['salary', 'salary_log'])\n",
    "y = data['salary_log']\n",
    "\n",
    "X_train, X_test, y_train, y_test = train_test_split(X, y, test_size=0.2, random_state=42)"
   ]
  },
  {
   "cell_type": "code",
   "execution_count": 146,
   "id": "5c43bf0b-828a-45d6-9118-4c82be4cd727",
   "metadata": {
    "tags": []
   },
   "outputs": [
    {
     "name": "stdout",
     "output_type": "stream",
     "text": [
      "Linear Regression:\n",
      "Metric    Train          Test           \n",
      "-----------------------------------\n",
      "R²        0.523        0.416\n",
      "MAE       0.23        0.25\n",
      "MSE       0.09        0.11\n",
      "\n",
      "\n",
      "Random Forest:\n",
      "Metric    Train          Test           \n",
      "-----------------------------------\n",
      "R²        0.853        0.384\n",
      "MAE       0.12        0.25\n",
      "MSE       0.03        0.11\n",
      "\n",
      "\n",
      "XGBoost:\n",
      "Metric    Train          Test           \n",
      "-----------------------------------\n",
      "R²        0.845        0.377\n",
      "MAE       0.11        0.26\n",
      "MSE       0.03        0.11\n"
     ]
    }
   ],
   "source": [
    "model_lr = LinearRegression()\n",
    "model_lr.fit(X_train, y_train)\n",
    "y_train_pred_lr = model_lr.predict(X_train)\n",
    "y_test_pred_lr = model_lr.predict(X_test)\n",
    "print_metrics(y_train, y_train_pred_lr, y_test, y_test_pred_lr, \"Linear Regression\")\n",
    "\n",
    "model_rf = RandomForestRegressor(n_estimators=100, random_state=42)\n",
    "model_rf.fit(X_train, y_train)\n",
    "y_train_pred_rf = model_rf.predict(X_train)\n",
    "y_test_pred_rf = model_rf.predict(X_test)\n",
    "print('\\n')\n",
    "print_metrics(y_train, y_train_pred_rf, y_test, y_test_pred_rf, \"Random Forest\")\n",
    "\n",
    "model_xgb = XGBRegressor(n_estimators=100, random_state=42)\n",
    "model_xgb.fit(X_train, y_train)\n",
    "y_train_pred_xgb = model_xgb.predict(X_train)\n",
    "y_test_pred_xgb = model_xgb.predict(X_test)\n",
    "print('\\n')\n",
    "print_metrics(y_train, y_train_pred_xgb, y_test, y_test_pred_xgb, \"XGBoost\")"
   ]
  },
  {
   "cell_type": "markdown",
   "id": "833f530d-201e-4f92-942d-cddb804edd08",
   "metadata": {},
   "source": [
    "Пока из протестированных моделей лучшие результаты показывает LassoCV, у неё самый высокий R² на тесте (0.494) и наименьшее переобучение."
   ]
  },
  {
   "cell_type": "code",
   "execution_count": null,
   "id": "3008c834-5a19-4431-93c5-54d90a8ce626",
   "metadata": {},
   "outputs": [],
   "source": []
  }
 ],
 "metadata": {
  "kernelspec": {
   "display_name": "normal",
   "language": "python",
   "name": "normal"
  },
  "language_info": {
   "codemirror_mode": {
    "name": "ipython",
    "version": 3
   },
   "file_extension": ".py",
   "mimetype": "text/x-python",
   "name": "python",
   "nbconvert_exporter": "python",
   "pygments_lexer": "ipython3",
   "version": "3.10.12"
  }
 },
 "nbformat": 4,
 "nbformat_minor": 5
}
